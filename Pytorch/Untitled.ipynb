{
 "cells": [
  {
   "cell_type": "markdown",
   "id": "e361339c",
   "metadata": {},
   "source": [
    "\n",
    "# Project\n",
    " \n",
    "## Prof . Constantin Pohl   \n",
    "\n",
    "###  Chiheb Mhamdi  -   Boltzmann Machine : Build a recommendation system  "
   ]
  },
  {
   "cell_type": "code",
   "execution_count": null,
   "id": "e3a9ebee",
   "metadata": {},
   "outputs": [],
   "source": [
    "# We won't be using this dataset.\n",
    "movies = pd.read_csv('ml-1m/movies.dat', sep = '::', header = None, engine = 'python', encoding = 'latin-1')\n",
    "users = pd.read_csv('ml-1m/users.dat', sep = '::', header = None, engine = 'python', encoding = 'latin-1')\n",
    "ratings = pd.read_csv('ml-1m/ratings.dat', sep = '::', header = None, engine = 'python', encoding = 'latin-1')"
   ]
  },
  {
   "cell_type": "code",
   "execution_count": null,
   "id": "ab08f31e",
   "metadata": {},
   "outputs": [],
   "source": [
    "movies.columns "
   ]
  },
  {
   "cell_type": "markdown",
   "id": "a5627d8b",
   "metadata": {},
   "source": [
    "#### 0  : Id of the film \n",
    "#### 1  : The name of the film \n",
    "#### 2  : Type of the film "
   ]
  },
  {
   "cell_type": "code",
   "execution_count": null,
   "id": "fb2e0b33",
   "metadata": {},
   "outputs": [],
   "source": [
    "users.columns "
   ]
  },
  {
   "cell_type": "markdown",
   "id": "c78572de",
   "metadata": {},
   "source": [
    "#### 0  : Id of the User\n",
    "#### 1  : Gender\n",
    "#### 2  : Age  \n",
    "#### 3  : \n",
    "#### 4  : Timestamp"
   ]
  },
  {
   "cell_type": "code",
   "execution_count": null,
   "id": "94f0ceca",
   "metadata": {},
   "outputs": [],
   "source": [
    "ratings.columns "
   ]
  },
  {
   "cell_type": "markdown",
   "id": "59532192",
   "metadata": {},
   "source": [
    "#### 0  : Id of the User\n",
    "#### 1  : Id of the film \n",
    "#### 2  : Rating\n",
    "#### 3  : Timestamp"
   ]
  },
  {
   "cell_type": "markdown",
   "id": "677d28f6",
   "metadata": {},
   "source": [
    "## Preparing the training set and the test set"
   ]
  },
  {
   "cell_type": "code",
   "execution_count": null,
   "id": "f95e3bb3",
   "metadata": {},
   "outputs": [],
   "source": []
  },
  {
   "cell_type": "code",
   "execution_count": null,
   "id": "916013bf",
   "metadata": {},
   "outputs": [],
   "source": [
    "training_set = pd.read_csv('ml-100k/u1.base', delimiter = '\\t')\n",
    "training_set = np.array(training_set, dtype = 'int')\n",
    "test_set = pd.read_csv('ml-100k/u1.test', delimiter = '\\t')\n",
    "test_set = np.array(test_set, dtype = 'int')"
   ]
  },
  {
   "cell_type": "code",
   "execution_count": null,
   "id": "48dd4d22",
   "metadata": {},
   "outputs": [],
   "source": [
    "training_set"
   ]
  },
  {
   "cell_type": "code",
   "execution_count": null,
   "id": "96602a7c",
   "metadata": {},
   "outputs": [],
   "source": [
    "test_set"
   ]
  },
  {
   "cell_type": "markdown",
   "id": "896760c9",
   "metadata": {},
   "source": [
    "## Getting the number of users and movies"
   ]
  },
  {
   "cell_type": "code",
   "execution_count": null,
   "id": "5aed4658",
   "metadata": {},
   "outputs": [],
   "source": [
    "nb_users = int(max(max(training_set[:, 0], ), max(test_set[:, 0])))\n",
    "nb_movies = int(max(max(training_set[:, 1], ), max(test_set[:, 1])))\n",
    "print(nb_users)\n",
    "print(nb_movies)"
   ]
  },
  {
   "cell_type": "code",
   "execution_count": null,
   "id": "cf168076",
   "metadata": {},
   "outputs": [],
   "source": [
    "training_set[:,1][training_set[:,0]==1] "
   ]
  },
  {
   "cell_type": "code",
   "execution_count": null,
   "id": "34f6c464",
   "metadata": {},
   "outputs": [],
   "source": [
    "training_set[:,2] [training_set[:,0]==1]"
   ]
  },
  {
   "cell_type": "markdown",
   "id": "0b7904e0",
   "metadata": {},
   "source": [
    "## Converting the data into an array with users in lines and movies in columns"
   ]
  },
  {
   "cell_type": "code",
   "execution_count": null,
   "id": "d6ef798c",
   "metadata": {},
   "outputs": [],
   "source": [
    "def convert(data):\n",
    "  new_data = []\n",
    "  for id_users in range(1, nb_users + 1):\n",
    "    id_movies = data[:, 1] [data[:, 0] == id_users]\n",
    "    id_ratings = data[:, 2] [data[:, 0] == id_users]\n",
    "    ratings = np.zeros(nb_movies)\n",
    "    ratings[id_movies - 1] = id_ratings\n",
    "    new_data.append(list(ratings))\n",
    "  return new_data\n",
    "training_set = convert(training_set)\n",
    "test_set = convert(test_set)"
   ]
  },
  {
   "cell_type": "markdown",
   "id": "7078e7a2",
   "metadata": {},
   "source": [
    "## Converting the data into Torch tensors"
   ]
  },
  {
   "cell_type": "code",
   "execution_count": null,
   "id": "68d46c18",
   "metadata": {},
   "outputs": [],
   "source": [
    "training_set[training_set == 0] = -1\n",
    "training_set[training_set == 1] = 0\n",
    "training_set[training_set == 2] = 0\n",
    "training_set[training_set >= 3] = 1\n",
    "test_set[test_set == 0] = -1\n",
    "test_set[test_set == 1] = 0\n",
    "test_set[test_set == 2] = 0\n",
    "test_set[test_set >= 3] = 1"
   ]
  },
  {
   "cell_type": "code",
   "execution_count": null,
   "id": "358cd70e",
   "metadata": {},
   "outputs": [],
   "source": [
    "training_set"
   ]
  },
  {
   "cell_type": "markdown",
   "id": "0e2b15c7",
   "metadata": {},
   "source": [
    "## Creating the architecture of the Neural Network"
   ]
  },
  {
   "cell_type": "code",
   "execution_count": null,
   "id": "bf0fa8e6",
   "metadata": {},
   "outputs": [],
   "source": [
    "class RBM():\n",
    "  #initialisation   \n",
    "  def __init__(self, nv, nh):\n",
    "    self.W = torch.randn(nh, nv) # initialise the weights randomly (simulate a gaussian variable M=0/V=1)\n",
    "    self.a = torch.randn(1, nh) # bias pour for the hidden layers : 1 row / nh columns \n",
    "    self.b = torch.randn(1, nv) #bias for the visible neuronnes : \n",
    "  #calculate hidden nodes based on visible nodes \n",
    "  def sample_h(self, x):\n",
    "    wx = torch.mm(x, self.W.t())\n",
    "    activation = wx + self.a.expand_as(wx)\n",
    "    p_h_given_v = torch.sigmoid(activation)\n",
    "    return p_h_given_v, torch.bernoulli(p_h_given_v)\n",
    "#calculate  visible nodes based on hidden nodes\n",
    "  def sample_v(self, y):\n",
    "    wy = torch.mm(y, self.W)\n",
    "    activation = wy + self.b.expand_as(wy)\n",
    "    p_v_given_h = torch.sigmoid(activation)\n",
    "    return p_v_given_h, torch.bernoulli(p_v_given_h)\n",
    "#Train our model : \n",
    "  def train(self, v0, vk, ph0, phk):\n",
    "    self.W += (torch.mm(v0.t(), ph0) - torch.mm(vk.t(), phk)).t() #update the weights \n",
    "    self.b += torch.sum((v0 - vk), 0)\n",
    "    self.a += torch.sum((ph0 - phk), 0)\n",
    "nv = len(training_set[0])\n",
    "nh = 100\n",
    "batch_size = 100\n",
    "rbm = RBM(nv, nh)"
   ]
  },
  {
   "cell_type": "markdown",
   "id": "c0e3f4a4",
   "metadata": {},
   "source": [
    "## How to evaluate the boltzmann machine ? "
   ]
  },
  {
   "cell_type": "markdown",
   "id": "f228a31f",
   "metadata": {},
   "source": [
    "#### There are two ways to evaluate our Boltzmann machine: The RMSE and the mean absolute distance."
   ]
  },
  {
   "cell_type": "markdown",
   "id": "1df2e3c8",
   "metadata": {},
   "source": [
    "### RMSE : \n",
    "Le RMSE (Root Mean Squared Error, ou Racine de l'Erreur des Moindres Carrés) est calculée comme étant la racine carrée de la moyenne des différences au carré entre les prédictions et les valeurs réelles."
   ]
  },
  {
   "cell_type": "markdown",
   "id": "c4af343f",
   "metadata": {},
   "source": [
    "## Training the RBM\n"
   ]
  },
  {
   "cell_type": "code",
   "execution_count": null,
   "id": "1ae58f0b",
   "metadata": {},
   "outputs": [],
   "source": [
    "nb_epoch = 10\n",
    "for epoch in range(1, nb_epoch + 1):\n",
    "    train_loss = 0\n",
    "    s = 0.\n",
    "    for id_user in range(0, nb_users - batch_size, batch_size):\n",
    "        vk = training_set[id_user:id_user+batch_size]\n",
    "        v0 = training_set[id_user:id_user+batch_size]\n",
    "        ph0,_ = rbm.sample_h(v0)\n",
    "        for k in range(10):\n",
    "            _,hk = rbm.sample_h(vk)\n",
    "            _,vk = rbm.sample_v(hk)\n",
    "            vk[v0<0] = v0[v0<0]\n",
    "        phk,_ = rbm.sample_h(vk)\n",
    "        rbm.train(v0, vk, ph0, phk)\n",
    "        train_loss += np.sqrt(torch.mean((v0[v0>=0] - vk[v0>=0])**2)) # RMSE here\n",
    "        s += 1.\n",
    "    print('epoch: '+str(epoch)+' loss: '+str(train_loss/s))"
   ]
  },
  {
   "cell_type": "markdown",
   "id": "983e5aa4",
   "metadata": {},
   "source": [
    "## Testing the RBM\n"
   ]
  },
  {
   "cell_type": "code",
   "execution_count": null,
   "id": "22c9b4da",
   "metadata": {},
   "outputs": [],
   "source": [
    "test_loss = 0\n",
    "s = 0.\n",
    "for id_user in range(nb_users):\n",
    "    v = training_set[id_user:id_user+1]\n",
    "    vt = test_set[id_user:id_user+1]\n",
    "    if len(vt[vt>=0]) > 0:\n",
    "        _,h = rbm.sample_h(v)\n",
    "        _,v = rbm.sample_v(h)\n",
    "        test_loss += torch.mean(torch.abs(vt[vt>=0] - v[vt>=0]))\n",
    "        s += 1.\n",
    "print('test loss: '+str(test_loss/s))"
   ]
  },
  {
   "cell_type": "markdown",
   "id": "b94a38ac",
   "metadata": {},
   "source": [
    "With the RMSE, our Boltzmann Machine obtains an error around 0.46. This is different from the average absolute distance. An RMSE of 0.46 does not mean that the average distance between the predictions and the actual values ​​is 0.46. It is necessary to compare with the value that one would obtain if one made predictions in a completely random way, which gives an RMSE of 0.72. Thus, an error of 0.46 corresponds to a success rate of 75%."
   ]
  },
  {
   "cell_type": "markdown",
   "id": "92f6e919",
   "metadata": {},
   "source": [
    "## The mean absolute distance "
   ]
  },
  {
   "cell_type": "markdown",
   "id": "b9b3a3e3",
   "metadata": {},
   "source": [
    "\n",
    "If you prefer to use the average absolute distance, this is also possible. It's more intuitive."
   ]
  },
  {
   "cell_type": "markdown",
   "id": "e5fc8ca7",
   "metadata": {},
   "source": [
    "## Training : "
   ]
  },
  {
   "cell_type": "code",
   "execution_count": null,
   "id": "39cd1299",
   "metadata": {},
   "outputs": [],
   "source": [
    "nb_epoch = 10\n",
    "for epoch in range(1, nb_epoch + 1):\n",
    "    train_loss = 0\n",
    "    s = 0.\n",
    "    for id_user in range(0, nb_users - batch_size, batch_size):\n",
    "        vk = training_set[id_user:id_user+batch_size]\n",
    "        v0 = training_set[id_user:id_user+batch_size]\n",
    "        ph0,_ = rbm.sample_h(v0)\n",
    "        for k in range(10):\n",
    "            _,hk = rbm.sample_h(vk)\n",
    "            _,vk = rbm.sample_v(hk)\n",
    "            vk[v0<0] = v0[v0<0]\n",
    "        phk,_ = rbm.sample_h(vk)\n",
    "        rbm.train(v0, vk, ph0, phk)\n",
    "        train_loss += torch.mean(torch.abs(v0[v0>=0] - vk[v0>=0])) # Average Distance here\n",
    "        s += 1.\n",
    "    print('epoch: '+str(epoch)+' loss: '+str(train_loss/s))"
   ]
  },
  {
   "cell_type": "markdown",
   "id": "d86a314e",
   "metadata": {},
   "source": [
    "## Testing : "
   ]
  },
  {
   "cell_type": "code",
   "execution_count": null,
   "id": "3de8e009",
   "metadata": {},
   "outputs": [],
   "source": [
    "test_loss = 0\n",
    "s = 0.\n",
    "for id_user in range(nb_users):\n",
    "    v = training_set[id_user:id_user+1]\n",
    "    vt = test_set[id_user:id_user+1]\n",
    "    if len(vt[vt>=0]) > 0:\n",
    "        _,h = rbm.sample_h(v)\n",
    "        _,v = rbm.sample_v(h)\n",
    "        test_loss += torch.mean(torch.abs(vt[vt>=0] - v[vt>=0])) # Average Distance here\n",
    "        s += 1.\n",
    "print('test loss: '+str(test_loss/s))"
   ]
  },
  {
   "cell_type": "markdown",
   "id": "5270aa0e",
   "metadata": {},
   "source": [
    "With this metric, we obtain an average distance of 0.24, which is equivalent to approximately 75% correct predictions.\n",
    "\n",
    "Thus, our model works well.\n",
    "\n",
    "To test that 0.25 is 75% success, you can try this test."
   ]
  },
  {
   "cell_type": "code",
   "execution_count": null,
   "id": "53a51e6f",
   "metadata": {},
   "outputs": [],
   "source": []
  }
 ],
 "metadata": {
  "kernelspec": {
   "display_name": "Python 3",
   "language": "python",
   "name": "python3"
  },
  "language_info": {
   "codemirror_mode": {
    "name": "ipython",
    "version": 3
   },
   "file_extension": ".py",
   "mimetype": "text/x-python",
   "name": "python",
   "nbconvert_exporter": "python",
   "pygments_lexer": "ipython3",
   "version": "3.8.8"
  }
 },
 "nbformat": 4,
 "nbformat_minor": 5
}
